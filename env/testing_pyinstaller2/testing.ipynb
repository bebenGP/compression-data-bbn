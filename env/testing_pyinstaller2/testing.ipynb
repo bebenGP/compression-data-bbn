{
 "cells": [
  {
   "cell_type": "code",
   "execution_count": 2,
   "metadata": {},
   "outputs": [
    {
     "data": {
      "text/plain": [
       "CompletedProcess(args=['pyinstaller', '--onefile', '--key', 'Ik_ben_geboren_in_de_stad_Jambi_en_ik_hou_van_een_vrouw', 'C:\\\\Users\\\\bputra\\\\OneDrive - ESRI Indonesia\\\\PT ESRI Indonesia\\\\Project\\\\P16 (PUPR - Migrasi)\\\\testing_pyinstaller2\\\\script_compress_data.py'], returncode=1)"
      ]
     },
     "execution_count": 2,
     "metadata": {},
     "output_type": "execute_result"
    }
   ],
   "source": [
    "import subprocess\n",
    "\n",
    "# Path skrip Python Anda\n",
    "script_path = r\"C:\\Users\\bputra\\OneDrive - ESRI Indonesia\\PT ESRI Indonesia\\Project\\P16 (PUPR - Migrasi)\\testing_pyinstaller2\\script_compress_data.py\"\n",
    "\n",
    "# Menjalankan PyInstaller dengan opsi --onefile dan --key untuk enkripsi\n",
    "subprocess.run([\"pyinstaller\", \"--onefile\", \"--key\", \"Ik_ben_geboren_in_de_stad_Jambi_en_ik_hou_van_een_vrouw\", script_path])\n"
   ]
  },
  {
   "cell_type": "code",
   "execution_count": 3,
   "metadata": {},
   "outputs": [
    {
     "ename": "FileNotFoundError",
     "evalue": "[WinError 3] The system cannot find the path specified: 'C:\\\\Users\\\\bputra\\\\OneDrive - ESRI Indonesia\\\\PT ESRI Indonesia\\\\Project\\\\P16 (PUPR - Migrasi)\\\\testing_pyinstaller2\\\\env\\\\Scripts\\\\dist'",
     "output_type": "error",
     "traceback": [
      "\u001b[1;31m---------------------------------------------------------------------------\u001b[0m",
      "\u001b[1;31mFileNotFoundError\u001b[0m                         Traceback (most recent call last)",
      "Cell \u001b[1;32mIn[3], line 7\u001b[0m\n\u001b[0;32m      4\u001b[0m dist_path \u001b[38;5;241m=\u001b[39m \u001b[38;5;124mr\u001b[39m\u001b[38;5;124m\"\u001b[39m\u001b[38;5;124mC:\u001b[39m\u001b[38;5;124m\\\u001b[39m\u001b[38;5;124mUsers\u001b[39m\u001b[38;5;124m\\\u001b[39m\u001b[38;5;124mbputra\u001b[39m\u001b[38;5;124m\\\u001b[39m\u001b[38;5;124mOneDrive - ESRI Indonesia\u001b[39m\u001b[38;5;124m\\\u001b[39m\u001b[38;5;124mPT ESRI Indonesia\u001b[39m\u001b[38;5;124m\\\u001b[39m\u001b[38;5;124mProject\u001b[39m\u001b[38;5;124m\\\u001b[39m\u001b[38;5;124mP16 (PUPR - Migrasi)\u001b[39m\u001b[38;5;124m\\\u001b[39m\u001b[38;5;124mtesting_pyinstaller2\u001b[39m\u001b[38;5;124m\\\u001b[39m\u001b[38;5;124menv\u001b[39m\u001b[38;5;124m\\\u001b[39m\u001b[38;5;124mScripts\u001b[39m\u001b[38;5;124m\\\u001b[39m\u001b[38;5;124mdist\u001b[39m\u001b[38;5;124m\"\u001b[39m\n\u001b[0;32m      6\u001b[0m \u001b[38;5;66;03m# List file dalam folder dist untuk memastikan file .exe telah dibuat\u001b[39;00m\n\u001b[1;32m----> 7\u001b[0m \u001b[38;5;28mprint\u001b[39m(\u001b[43mos\u001b[49m\u001b[38;5;241;43m.\u001b[39;49m\u001b[43mlistdir\u001b[49m\u001b[43m(\u001b[49m\u001b[43mdist_path\u001b[49m\u001b[43m)\u001b[49m)\n",
      "\u001b[1;31mFileNotFoundError\u001b[0m: [WinError 3] The system cannot find the path specified: 'C:\\\\Users\\\\bputra\\\\OneDrive - ESRI Indonesia\\\\PT ESRI Indonesia\\\\Project\\\\P16 (PUPR - Migrasi)\\\\testing_pyinstaller2\\\\env\\\\Scripts\\\\dist'"
     ]
    }
   ],
   "source": [
    "import os\n",
    "\n",
    "# Path folder dist\n",
    "dist_path = r\"C:\\Users\\bputra\\OneDrive - ESRI Indonesia\\PT ESRI Indonesia\\Project\\P16 (PUPR - Migrasi)\\testing_pyinstaller2\\env\\Scripts\\dist\"\n",
    "\n",
    "# List file dalam folder dist untuk memastikan file .exe telah dibuat\n",
    "print(os.listdir(dist_path))\n"
   ]
  },
  {
   "cell_type": "code",
   "execution_count": 4,
   "metadata": {},
   "outputs": [
    {
     "name": "stdout",
     "output_type": "stream",
     "text": [
      "\n",
      "Bytecode encryption was removed in PyInstaller v6.0. Please remove your --key=xxx argument. For the rationale and alternatives see https://github.com/pyinstaller/pyinstaller/pull/6999\n",
      "\n"
     ]
    }
   ],
   "source": [
    "import subprocess\n",
    "\n",
    "# Path skrip Python Anda\n",
    "script_path = r\"C:\\Users\\bputra\\OneDrive - ESRI Indonesia\\PT ESRI Indonesia\\Project\\P16 (PUPR - Migrasi)\\testing_pyinstaller2\\script_compress_data.py\"\n",
    "\n",
    "# Menjalankan PyInstaller dengan opsi --onefile dan --key untuk enkripsi\n",
    "result = subprocess.run([\"pyinstaller\", \"--onefile\", \"--key\", \"Ik_ben_geboren_in_de_stad_Jambi_en_ik_hou_van_een_vrouw\", script_path], capture_output=True, text=True)\n",
    "\n",
    "# Mencetak output dan error jika ada\n",
    "print(result.stdout)\n",
    "print(result.stderr)\n"
   ]
  },
  {
   "cell_type": "code",
   "execution_count": 1,
   "metadata": {},
   "outputs": [
    {
     "name": "stdout",
     "output_type": "stream",
     "text": [
      "\n",
      "944 INFO: PyInstaller: 6.9.0, contrib hooks: 2024.7\n",
      "944 INFO: Python: 3.11.9\n",
      "954 INFO: Platform: Windows-10-10.0.19045-SP0\n",
      "954 INFO: Python environment: C:\\Program Files\\WindowsApps\\PythonSoftwareFoundation.Python.3.11_3.11.2544.0_x64__qbz5n2kfra8p0\n",
      "954 INFO: wrote c:\\Users\\bputra\\OneDrive - ESRI Indonesia\\PT ESRI Indonesia\\Project\\P16 (PUPR - Migrasi)\\testing_pyinstaller2\\script_compress_data.spec\n",
      "986 INFO: Module search paths (PYTHONPATH):\n",
      "['c:\\\\Users\\\\bputra\\\\AppData\\\\Local\\\\Packages\\\\PythonSoftwareFoundation.Python.3.11_qbz5n2kfra8p0\\\\LocalCache\\\\local-packages\\\\Python311\\\\Scripts\\\\pyinstaller.exe',\n",
      " 'C:\\\\Program '\n",
      " 'Files\\\\WindowsApps\\\\PythonSoftwareFoundation.Python.3.11_3.11.2544.0_x64__qbz5n2kfra8p0\\\\python311.zip',\n",
      " 'C:\\\\Program '\n",
      " 'Files\\\\WindowsApps\\\\PythonSoftwareFoundation.Python.3.11_3.11.2544.0_x64__qbz5n2kfra8p0\\\\DLLs',\n",
      " 'C:\\\\Program '\n",
      " 'Files\\\\WindowsApps\\\\PythonSoftwareFoundation.Python.3.11_3.11.2544.0_x64__qbz5n2kfra8p0\\\\Lib',\n",
      " 'C:\\\\Program '\n",
      " 'Files\\\\WindowsApps\\\\PythonSoftwareFoundation.Python.3.11_3.11.2544.0_x64__qbz5n2kfra8p0',\n",
      " 'C:\\\\Users\\\\bputra\\\\AppData\\\\Local\\\\Packages\\\\PythonSoftwareFoundation.Python.3.11_qbz5n2kfra8p0\\\\LocalCache\\\\local-packages\\\\Python311\\\\site-packages',\n",
      " 'C:\\\\Users\\\\bputra\\\\AppData\\\\Local\\\\Packages\\\\PythonSoftwareFoundation.Python.3.11_qbz5n2kfra8p0\\\\LocalCache\\\\local-packages\\\\Python311\\\\site-packages\\\\win32',\n",
      " 'C:\\\\Users\\\\bputra\\\\AppData\\\\Local\\\\Packages\\\\PythonSoftwareFoundation.Python.3.11_qbz5n2kfra8p0\\\\LocalCache\\\\local-packages\\\\Python311\\\\site-packages\\\\win32\\\\lib',\n",
      " 'C:\\\\Users\\\\bputra\\\\AppData\\\\Local\\\\Packages\\\\PythonSoftwareFoundation.Python.3.11_qbz5n2kfra8p0\\\\LocalCache\\\\local-packages\\\\Python311\\\\site-packages\\\\Pythonwin',\n",
      " 'C:\\\\Program '\n",
      " 'Files\\\\WindowsApps\\\\PythonSoftwareFoundation.Python.3.11_3.11.2544.0_x64__qbz5n2kfra8p0\\\\Lib\\\\site-packages',\n",
      " 'C:\\\\Users\\\\bputra\\\\OneDrive - ESRI Indonesia\\\\PT ESRI '\n",
      " 'Indonesia\\\\Project\\\\P16 (PUPR - Migrasi)\\\\testing_pyinstaller2']\n",
      "1856 INFO: checking Analysis\n",
      "1859 INFO: Building Analysis because Analysis-00.toc is non existent\n",
      "1859 INFO: Running Analysis Analysis-00.toc\n",
      "1859 INFO: Target bytecode optimization level: 0\n",
      "1859 INFO: Initializing module dependency graph...\n",
      "1859 INFO: Caching module graph hooks...\n",
      "1954 INFO: Analyzing base_library.zip ...\n",
      "6206 INFO: Loading module hook 'hook-heapq.py' from 'C:\\\\Users\\\\bputra\\\\AppData\\\\Local\\\\Packages\\\\PythonSoftwareFoundation.Python.3.11_qbz5n2kfra8p0\\\\LocalCache\\\\local-packages\\\\Python311\\\\site-packages\\\\PyInstaller\\\\hooks'...\n",
      "6314 INFO: Loading module hook 'hook-encodings.py' from 'C:\\\\Users\\\\bputra\\\\AppData\\\\Local\\\\Packages\\\\PythonSoftwareFoundation.Python.3.11_qbz5n2kfra8p0\\\\LocalCache\\\\local-packages\\\\Python311\\\\site-packages\\\\PyInstaller\\\\hooks'...\n",
      "9084 INFO: Loading module hook 'hook-pickle.py' from 'C:\\\\Users\\\\bputra\\\\AppData\\\\Local\\\\Packages\\\\PythonSoftwareFoundation.Python.3.11_qbz5n2kfra8p0\\\\LocalCache\\\\local-packages\\\\Python311\\\\site-packages\\\\PyInstaller\\\\hooks'...\n",
      "11246 INFO: Caching module dependency graph...\n",
      "11434 INFO: Looking for Python shared library...\n",
      "11434 INFO: Using Python shared library: C:\\Program Files\\WindowsApps\\PythonSoftwareFoundation.Python.3.11_3.11.2544.0_x64__qbz5n2kfra8p0\\python311.dll\n",
      "11434 INFO: Analyzing C:\\Users\\bputra\\OneDrive - ESRI Indonesia\\PT ESRI Indonesia\\Project\\P16 (PUPR - Migrasi)\\testing_pyinstaller2\\script_compress_data.py\n",
      "11446 INFO: Processing module hooks...\n",
      "11455 INFO: Performing binary vs. data reclassification (2 entries)\n",
      "11484 INFO: Looking for ctypes DLLs\n",
      "11505 INFO: Analyzing run-time hooks ...\n",
      "11505 INFO: Including run-time hook 'C:\\\\Users\\\\bputra\\\\AppData\\\\Local\\\\Packages\\\\PythonSoftwareFoundation.Python.3.11_qbz5n2kfra8p0\\\\LocalCache\\\\local-packages\\\\Python311\\\\site-packages\\\\PyInstaller\\\\hooks\\\\rthooks\\\\pyi_rth_inspect.py'\n",
      "11516 INFO: Looking for dynamic libraries\n",
      "11776 INFO: Extra DLL search directories (AddDllDirectory): []\n",
      "11776 INFO: Extra DLL search directories (PATH): []\n",
      "12056 INFO: Warnings written to c:\\Users\\bputra\\OneDrive - ESRI Indonesia\\PT ESRI Indonesia\\Project\\P16 (PUPR - Migrasi)\\testing_pyinstaller2\\build\\script_compress_data\\warn-script_compress_data.txt\n",
      "12089 INFO: Graph cross-reference written to c:\\Users\\bputra\\OneDrive - ESRI Indonesia\\PT ESRI Indonesia\\Project\\P16 (PUPR - Migrasi)\\testing_pyinstaller2\\build\\script_compress_data\\xref-script_compress_data.html\n",
      "12420 INFO: checking PYZ\n",
      "12420 INFO: Building PYZ because PYZ-00.toc is non existent\n",
      "12420 INFO: Building PYZ (ZlibArchive) c:\\Users\\bputra\\OneDrive - ESRI Indonesia\\PT ESRI Indonesia\\Project\\P16 (PUPR - Migrasi)\\testing_pyinstaller2\\build\\script_compress_data\\PYZ-00.pyz\n",
      "13044 INFO: Building PYZ (ZlibArchive) c:\\Users\\bputra\\OneDrive - ESRI Indonesia\\PT ESRI Indonesia\\Project\\P16 (PUPR - Migrasi)\\testing_pyinstaller2\\build\\script_compress_data\\PYZ-00.pyz completed successfully.\n",
      "13056 INFO: checking PKG\n",
      "13056 INFO: Building PKG because PKG-00.toc is non existent\n",
      "13056 INFO: Building PKG (CArchive) script_compress_data.pkg\n",
      "15630 INFO: Building PKG (CArchive) script_compress_data.pkg completed successfully.\n",
      "15635 INFO: Bootloader C:\\Users\\bputra\\AppData\\Local\\Packages\\PythonSoftwareFoundation.Python.3.11_qbz5n2kfra8p0\\LocalCache\\local-packages\\Python311\\site-packages\\PyInstaller\\bootloader\\Windows-64bit-intel\\run.exe\n",
      "15635 INFO: checking EXE\n",
      "15635 INFO: Building EXE because EXE-00.toc is non existent\n",
      "15635 INFO: Building EXE from EXE-00.toc\n",
      "15635 INFO: Copying bootloader EXE to c:\\Users\\bputra\\OneDrive - ESRI Indonesia\\PT ESRI Indonesia\\Project\\P16 (PUPR - Migrasi)\\testing_pyinstaller2\\dist\\script_compress_data.exe\n",
      "15764 INFO: Copying icon to EXE\n",
      "15836 INFO: Copying 0 resources to EXE\n",
      "15836 INFO: Embedding manifest in EXE\n",
      "15929 INFO: Appending PKG archive to EXE\n",
      "15948 INFO: Fixing EXE headers\n",
      "26504 INFO: Building EXE from EXE-00.toc completed successfully.\n",
      "\n"
     ]
    }
   ],
   "source": [
    "import subprocess\n",
    "\n",
    "# Path skrip Python Anda\n",
    "script_path = r\"C:\\Users\\bputra\\OneDrive - ESRI Indonesia\\PT ESRI Indonesia\\Project\\P16 (PUPR - Migrasi)\\testing_pyinstaller2\\script_compress_data.py\"\n",
    "\n",
    "# Menjalankan PyInstaller dengan opsi --onefile tanpa enkripsi\n",
    "result = subprocess.run([\"pyinstaller\", \"--onefile\", script_path], capture_output=True, text=True)\n",
    "\n",
    "# Mencetak output dan error jika ada\n",
    "print(result.stdout)\n",
    "print(result.stderr)\n"
   ]
  },
  {
   "cell_type": "code",
   "execution_count": null,
   "metadata": {},
   "outputs": [],
   "source": []
  }
 ],
 "metadata": {
  "kernelspec": {
   "display_name": "Python 3",
   "language": "python",
   "name": "python3"
  },
  "language_info": {
   "codemirror_mode": {
    "name": "ipython",
    "version": 3
   },
   "file_extension": ".py",
   "mimetype": "text/x-python",
   "name": "python",
   "nbconvert_exporter": "python",
   "pygments_lexer": "ipython3",
   "version": "3.11.9"
  }
 },
 "nbformat": 4,
 "nbformat_minor": 2
}
