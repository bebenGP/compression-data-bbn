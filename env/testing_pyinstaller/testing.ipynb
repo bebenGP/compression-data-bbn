{
 "cells": [
  {
   "cell_type": "code",
   "execution_count": 1,
   "metadata": {},
   "outputs": [
    {
     "name": "stdout",
     "output_type": "stream",
     "text": [
      "Requirement already satisfied: pyinstaller in c:\\users\\bputra\\appdata\\local\\packages\\pythonsoftwarefoundation.python.3.11_qbz5n2kfra8p0\\localcache\\local-packages\\python311\\site-packages (6.9.0)\n",
      "Requirement already satisfied: setuptools>=42.0.0 in c:\\program files\\windowsapps\\pythonsoftwarefoundation.python.3.11_3.11.2544.0_x64__qbz5n2kfra8p0\\lib\\site-packages (from pyinstaller) (65.5.0)\n",
      "Requirement already satisfied: altgraph in c:\\users\\bputra\\appdata\\local\\packages\\pythonsoftwarefoundation.python.3.11_qbz5n2kfra8p0\\localcache\\local-packages\\python311\\site-packages (from pyinstaller) (0.17.4)\n",
      "Requirement already satisfied: pyinstaller-hooks-contrib>=2024.7 in c:\\users\\bputra\\appdata\\local\\packages\\pythonsoftwarefoundation.python.3.11_qbz5n2kfra8p0\\localcache\\local-packages\\python311\\site-packages (from pyinstaller) (2024.7)\n",
      "Requirement already satisfied: packaging>=22.0 in c:\\users\\bputra\\appdata\\local\\packages\\pythonsoftwarefoundation.python.3.11_qbz5n2kfra8p0\\localcache\\local-packages\\python311\\site-packages (from pyinstaller) (23.2)\n",
      "Requirement already satisfied: pefile>=2022.5.30 in c:\\users\\bputra\\appdata\\local\\packages\\pythonsoftwarefoundation.python.3.11_qbz5n2kfra8p0\\localcache\\local-packages\\python311\\site-packages (from pyinstaller) (2023.2.7)\n",
      "Requirement already satisfied: pywin32-ctypes>=0.2.1 in c:\\users\\bputra\\appdata\\local\\packages\\pythonsoftwarefoundation.python.3.11_qbz5n2kfra8p0\\localcache\\local-packages\\python311\\site-packages (from pyinstaller) (0.2.2)\n",
      "Note: you may need to restart the kernel to use updated packages.\n"
     ]
    },
    {
     "name": "stderr",
     "output_type": "stream",
     "text": [
      "\n",
      "[notice] A new release of pip is available: 24.0 -> 24.1.2\n",
      "[notice] To update, run: C:\\Users\\bputra\\AppData\\Local\\Microsoft\\WindowsApps\\PythonSoftwareFoundation.Python.3.11_qbz5n2kfra8p0\\python.exe -m pip install --upgrade pip\n"
     ]
    }
   ],
   "source": [
    "pip install pyinstaller\n"
   ]
  },
  {
   "cell_type": "code",
   "execution_count": 3,
   "metadata": {},
   "outputs": [
    {
     "name": "stdout",
     "output_type": "stream",
     "text": [
      "Requirement already satisfied: pip in c:\\program files\\windowsapps\\pythonsoftwarefoundation.python.3.11_3.11.2544.0_x64__qbz5n2kfra8p0\\lib\\site-packages (24.0)\n",
      "Collecting pip\n",
      "  Downloading pip-24.1.2-py3-none-any.whl.metadata (3.6 kB)\n",
      "Downloading pip-24.1.2-py3-none-any.whl (1.8 MB)\n",
      "   ---------------------------------------- 0.0/1.8 MB ? eta -:--:--\n",
      "   ---------------------------------------- 0.0/1.8 MB ? eta -:--:--\n",
      "   ---------------------------------------- 0.0/1.8 MB ? eta -:--:--\n",
      "    --------------------------------------- 0.0/1.8 MB 435.7 kB/s eta 0:00:05\n",
      "   - -------------------------------------- 0.1/1.8 MB 657.6 kB/s eta 0:00:03\n",
      "   ---- ----------------------------------- 0.2/1.8 MB 1.5 MB/s eta 0:00:02\n",
      "   ----- ---------------------------------- 0.2/1.8 MB 1.4 MB/s eta 0:00:02\n",
      "   ------ --------------------------------- 0.3/1.8 MB 1.3 MB/s eta 0:00:02\n",
      "   -------- ------------------------------- 0.4/1.8 MB 1.3 MB/s eta 0:00:02\n",
      "   -------- ------------------------------- 0.4/1.8 MB 1.3 MB/s eta 0:00:02\n",
      "   -------- ------------------------------- 0.4/1.8 MB 1.3 MB/s eta 0:00:02\n",
      "   -------- ------------------------------- 0.4/1.8 MB 1.3 MB/s eta 0:00:02\n",
      "   ----------- ---------------------------- 0.5/1.8 MB 1.2 MB/s eta 0:00:02\n",
      "   ------------ --------------------------- 0.6/1.8 MB 1.2 MB/s eta 0:00:02\n",
      "   ---------------- ----------------------- 0.8/1.8 MB 1.3 MB/s eta 0:00:01\n",
      "   --------------------- ------------------ 1.0/1.8 MB 1.6 MB/s eta 0:00:01\n",
      "   ---------------------- ----------------- 1.0/1.8 MB 1.5 MB/s eta 0:00:01\n",
      "   ----------------------- ---------------- 1.1/1.8 MB 1.6 MB/s eta 0:00:01\n",
      "   -------------------------- ------------- 1.2/1.8 MB 1.6 MB/s eta 0:00:01\n",
      "   -------------------------- ------------- 1.2/1.8 MB 1.6 MB/s eta 0:00:01\n",
      "   ---------------------------- ----------- 1.3/1.8 MB 1.6 MB/s eta 0:00:01\n",
      "   -------------------------------- ------- 1.5/1.8 MB 1.7 MB/s eta 0:00:01\n",
      "   ----------------------------------- ---- 1.6/1.8 MB 1.7 MB/s eta 0:00:01\n",
      "   ------------------------------------- -- 1.7/1.8 MB 1.7 MB/s eta 0:00:01\n",
      "   -------------------------------------- - 1.7/1.8 MB 1.7 MB/s eta 0:00:01\n",
      "   ---------------------------------------  1.8/1.8 MB 1.7 MB/s eta 0:00:01\n",
      "   ---------------------------------------- 1.8/1.8 MB 1.6 MB/s eta 0:00:00\n",
      "Installing collected packages: pip\n",
      "Successfully installed pip-24.1.2\n",
      "Note: you may need to restart the kernel to use updated packages.\n"
     ]
    }
   ],
   "source": [
    "pip install --upgrade pip"
   ]
  },
  {
   "cell_type": "code",
   "execution_count": null,
   "metadata": {},
   "outputs": [],
   "source": []
  }
 ],
 "metadata": {
  "kernelspec": {
   "display_name": "Python 3",
   "language": "python",
   "name": "python3"
  },
  "language_info": {
   "codemirror_mode": {
    "name": "ipython",
    "version": 3
   },
   "file_extension": ".py",
   "mimetype": "text/x-python",
   "name": "python",
   "nbconvert_exporter": "python",
   "pygments_lexer": "ipython3",
   "version": "3.11.9"
  }
 },
 "nbformat": 4,
 "nbformat_minor": 2
}
